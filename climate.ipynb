{
 "cells": [
  {
   "cell_type": "markdown",
   "id": "8e0f69c3",
   "metadata": {
    "tags": [
     "remove_cell"
    ]
   },
   "source": [
    "<div><img style=\"float: left; padding-right: 3em;\" src=\"https://avatars.githubusercontent.com/u/19476722\" width=\"150\" /><div/>\n",
    "\n",
    "# Earth Data Science Coding Challenge!\n",
    "Before we get started, make sure to read or review the guidelines below. These will help make sure that your code is **readable** and **reproducible**. "
   ]
  },
  {
   "cell_type": "markdown",
   "id": "bd95aa47",
   "metadata": {
    "tags": [
     "remove_cell"
    ]
   },
   "source": [
    "## Don't get **caught** by these Jupyter notebook gotchas\n",
    "\n",
    "<img src=\"https://miro.medium.com/v2/resize:fit:4800/format:webp/1*o0HleR7BSe8W-pTnmucqHA.jpeg\" width=300 style=\"padding: 1em; border-style: solid; border-color: grey;\" />\n",
    "\n",
    "  > *Image source: https://alaskausfws.medium.com/whats-big-and-brown-and-loves-salmon-e1803579ee36*\n",
    "\n",
    "These are the most common issues that will keep you from getting started and delay your code review:\n",
    "\n",
    "1. When you try to run some code on GitHub Codespaces, you may be prompted to select a **kernel**.\n",
    "   * The **kernel** refers to the version of Python you are using\n",
    "   * You should use the **base** kernel, which should be the default option. \n",
    "   * You can also use the `Select Kernel` menu in the upper right to select the **base** kernel\n",
    "2. Before you commit your work, make sure it runs **reproducibly** by clicking:\n",
    "   1. `Restart` (this button won't appear until you've run some code), then\n",
    "   2. `Run All`\n",
    "\n",
    "## Check your code to make sure it's clean and easy to read\n",
    "\n",
    "<img src=\"https://encrypted-tbn0.gstatic.com/images?q=tbn:ANd9GcSO1w9WrbwbuMLN14IezH-iq2HEGwO3JDvmo5Y_hQIy7k-Xo2gZH-mP2GUIG6RFWL04X1k&usqp=CAU\" height=200 />\n",
    "\n",
    "* Format all cells prior to submitting (right click on your code).\n",
    "* Use expressive names for variables so you or the reader knows what they are. \n",
    "* Use comments to explain your code -- e.g. \n",
    "  ```python\n",
    "  # This is a comment, it starts with a hash sign\n",
    "  ```\n",
    "\n",
    "## Label and describe your plots\n",
    "\n",
    "![Source: https://xkcd.com/833](https://imgs.xkcd.com/comics/convincing.png)\n",
    "\n",
    "Make sure each plot has:\n",
    "  * A title that explains where and when the data are from\n",
    "  * x- and y- axis labels with **units** where appropriate\n",
    "  * A legend where appropriate\n",
    "\n",
    "\n",
    "## Icons: how to use this notebook\n",
    "We use the following icons to let you know when you need to change something to complete the challenge:\n",
    "  * &#128187; means you need to write or edit some code.\n",
    "  \n",
    "  * &#128214;  indicates recommended reading\n",
    "  \n",
    "  * &#9998; marks written responses to questions\n",
    "  \n",
    "  * &#127798; is an optional extra challenge\n",
    "  "
   ]
  },
  {
   "cell_type": "markdown",
   "id": "dff68ae9",
   "metadata": {},
   "source": [
    "---"
   ]
  },
  {
   "cell_type": "markdown",
   "id": "517c797c-fe6e-4db3-8f5e-9b529ac22bf8",
   "metadata": {},
   "source": [
    "# Habitat modeling under climate change\n",
    "\n",
    "[Our changing climate is changing where key grassland species can live, and grassland management and restoration practices will need to take this into account.](https://www.frontiersin.org/articles/10.3389/fpls.2017.00730/full)\n",
    "\n",
    "Create a habitat suitability model for Sorghastrum nutans, a grass native to North America. [In the past 50 years, its range has moved northward](https://www.gbif.org/species/2704414). The model will be based on combining multiple data layers related to soil, topography, and climate. You will also demonstrate the coding skills covered in this class by creating a modular, reproducible, **object-oriented** workflow for the model."
   ]
  },
  {
   "cell_type": "markdown",
   "id": "814f5c1b-a4cf-4f0b-886d-13d3b105046f",
   "metadata": {},
   "source": [
    "## STEP 1: STUDY OVERVIEW\n",
    "\n",
    "Your notebook should include an explanation of why and how you create you workflow. INCLUDE a sentance or two about the function/method and class you created, and why you chose it."
   ]
  },
  {
   "cell_type": "markdown",
   "id": "1fd0b585-e224-46d8-b717-6e6be588c853",
   "metadata": {},
   "source": [
    "### Classes and objects in Python\n",
    "\n",
    "You can think of an object as a collection of named values and functions that make use of those values. When they are part of an object, we call them **attributes** and **methods**. Each object is created from a **class**, or object template. Examples of classes you have used include the `pandas DataFrame` and `xarray DataArray`. As an example, `xr.DataArray` includes attributes like `.values`, and methods like `.mean()`. It also contains some special attributes created when the function is initialized for each of the coordinates (e.g. `x` and `y` if your `DataArray` has those as coordinates).\n",
    "\n",
    "You can absolutely write a reproducible scientific workflow without writing any of your own classes. However, there are some situations where custom classes can come in handy. Consider the following examples:\n",
    "  * Suppose you are writing code to interface with an API. There are going to be multiple steps, such as logging in, searching for data, and downloading data. Throughout the whole interaction, you want to keep track of the dates and bounding box for the data -- and you might even want to access those values after the data are completely downloaded! If you write a function, you'll run into two problems: 1) the function will be very long, 2) the function may take a long time to run, making it challenging to debug and text, and 3) you'll lose all the named values you define inside the function when it finishes running unless you pass them explicitely as return values. Using a class solves all these problems. You can split up the different parts of the workflow into shorter methods that all have access to the same information, such as bounding box or HTTP Session information.\n",
    "  * Suppose you are assembling a data cube (aligned and harmonized data from heterogeneous sources). Eventually, you will have a single `xarray DataArray` or `Dataset`. However, in the meantime you need to keep track of many data files such that you can access them by name, by attribute, or by order. Often we use the `pandas DataFrame` for this type of thing. However, it would be nice if the `DataFrame` did a couple of things differently. For example, when it prints you would like it to display the bounding box of each DataArray instead of the array itself (which is computationally expensive). Or, maybe when you create the DataFrame you would like it to search for all file names that match a pattern and extract key information. You can accomplish these goals by creating a **child** class to `pandas DataFrame` that inherits all its capabilities and modifies its methods, perhaps adding some new ones.\n",
    "  \n",
    "As you revisit your habitat modeling workflow, think carefully about at least one class you would like to modify or create.\n",
    "\n",
    "## Using climate model data\n",
    "\n",
    "You will use MACAv2 data for historical and future climate. Be sure to compare at least two emissions scenarios, as well as historic or current climatology as a control. When downloading climate data, bear in mind that:\n",
    "\n",
    "  * In general, we are interested in **climate normals**, which are typically calculated from 30 years of data so that they reflect the climate and not a single year. So if you are interested in scenarios around 2050, download at least data from 2035-2065.\n",
    "  * There is a great deal of uncertainty in climate models. We deal with that by using an **ensemble** of models to try to capture that uncertainty. For each scenario, you should attempt to include models that are:\n",
    "     * Warm and wet\n",
    "     * Warm and dry\n",
    "     * Cold and wet\n",
    "     * Cold and dry\n",
    "\n",
    "## You will create a reproducible scientific workflow\n",
    "\n",
    "Your workflow should:\n",
    "\n",
    "1. **Define your study area:** Download the [USFS National Grassland Units](https://data.fs.usda.gov/geodata/edw/edw_resources/shp/S_USA.NationalGrassland.zip) and select your study sites.\n",
    "2. **Fit a model:** For each grassland:\n",
    "    1. **Download model variables** as raster layers covering your study area envelope, including:\n",
    "        - At least one **soil** variable from the [POLARIS dataset](http://hydrology.cee.duke.edu/POLARIS/)\n",
    "        - Elevation from the SRTM (available from the [APPEEARS API](https://appeears.earthdatacloud.nasa.gov/products))\n",
    "        - The **30 year periods** of precipitation and temperature from the [MACAv2 dataset, accessible from Climate Toolbox](https://climatetoolbox.org/tool/Data-Download). Include an arrangement of emissions scenarios and time periods, following the guidelines above.\n",
    "     2. **Calculate at least one derived **topographic** variable** (slope or aspect) to use in your model. You probably will wish to use the `xarray-spatial` library, which is available in the latest earth-analytics-python environment (but will need to be installed/updated if you are working on your own machine). Note that calculated slope may not be correct if you are using a CRS with units of *degrees*; you should re-project into a projected coordinate system with units of *meters*, such as the appropriate UTM Zone.\n",
    "     3. **Harmonize your data** - make sure that the grids for each of your layers match up. Check out the [`ds.rio.reproject_match()` method](https://corteva.github.io/rioxarray/stable/examples/reproject_match.html#Reproject-Match) from `rioxarray`.\n",
    "     4. **Build your model**. You can use any model you wish, so long as you explain your choice. However, if you are not sure what to do, we recommend building a **fuzzy logic** model (see below).\n",
    "3. **Present your results** in at least one figure for each grassland/climate scenario combination."
   ]
  },
  {
   "cell_type": "markdown",
   "id": "d9fd2515-3557-4896-ad63-eacb5c48e6cb",
   "metadata": {},
   "source": [
    "## STEP 2: SITE SELECTION AND MAPS"
   ]
  },
  {
   "cell_type": "markdown",
   "id": "049998bf-fc32-4b5e-89a2-77d12111b70c",
   "metadata": {},
   "source": [
    "## STEP 3: DOWNLOAD DATA AND SELECT VARIABLES AND SCENARIOS\n",
    "\n",
    "To select your variables, I recommend first downloading the MACAv2 data for many models but for a single point at the center of your site. This will allow you to determine which climatology category each model fits into (e.g. warm/cold and wet/dry). You can **either** experiment with reproducible code using [OpenDAP](https://climate.northwestknowledge.net/MACA/OPENDAP.php), or use one of the subsetting web tools and include the .csv files in your repository. It should be a reasonable amount of data to include on GitHub.\n",
    "\n",
    "This step should include an EXPLANATION of the variables and scenarios you chose, backed up by research and evidence."
   ]
  },
  {
   "cell_type": "markdown",
   "id": "01d939bd-b3ff-4c68-a155-3673144eb9f5",
   "metadata": {},
   "source": [
    "## STEP 4: PROCESS AND HARMONIZE DATA"
   ]
  },
  {
   "cell_type": "markdown",
   "id": "c574ea49-e92c-4cc0-933e-6b1d6bc96042",
   "metadata": {},
   "source": [
    "## STEP 5: DEVELOP A FUZZY LOGIC MODEL"
   ]
  },
  {
   "cell_type": "markdown",
   "id": "8a892d13-5c66-4f6c-a59b-73dc842b90ba",
   "metadata": {},
   "source": [
    "A fuzzy logic model is one that is built on expert knowledge rather than training data. You may wish to use the [`scikit-fuzzy`](https://pythonhosted.org/scikit-fuzzy/) library, which includes many utilities for building this sort of model. In particular, it contains a number of **membership functions** which can convert your data into values from 0 to 1 using information such as, for example, the maximum, minimum, and optimal values for soil pH.\n",
    "\n",
    "To train a fuzzy logic habitat suitability model:\n",
    "\n",
    "1. Research S. nutans, and find out what optimal values are for each variable you are using (e.g. soil pH, slope, and current climatological annual precipitation). \n",
    "2. For each **digital number** in each raster, assign a **continuous** value from 0 to 1 for how close that grid square is to the optimum range (1=optimal, 0=incompatible). **DO NOT DO THIS WITH A LOOP!** A vectorized function that operates on the whole array at once will be much easier and faster.\n",
    "3. Combine your layers by multiplying them together. This will give you a single suitability number for each square.\n",
    "4. Optionally, you may apply a threshold to make the most suitable areas pop on your map."
   ]
  },
  {
   "cell_type": "markdown",
   "id": "8272d0ad-ee8b-4511-ad3f-0b961f2bc2b4",
   "metadata": {},
   "source": [
    "## STEP 6: PRESENT YOUR RESULTS\n",
    "\n",
    "Do not forget to interpret your plots and results!!"
   ]
  }
 ],
 "metadata": {
  "kernelspec": {
   "display_name": "Python 3 (ipykernel)",
   "language": "python",
   "name": "python3"
  },
  "language_info": {
   "codemirror_mode": {
    "name": "ipython",
    "version": 3
   },
   "file_extension": ".py",
   "mimetype": "text/x-python",
   "name": "python",
   "nbconvert_exporter": "python",
   "pygments_lexer": "ipython3",
   "version": "3.11.7"
  }
 },
 "nbformat": 4,
 "nbformat_minor": 5
}
